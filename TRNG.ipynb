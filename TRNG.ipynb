{
 "cells": [
  {
   "cell_type": "code",
   "execution_count": 1,
   "id": "7b2d65e7-8689-45a4-b842-aea7cb4090a2",
   "metadata": {},
   "outputs": [],
   "source": [
    "import numpy as np\n",
    "from scipy.io import wavfile\n",
    "import matplotlib.pyplot as plt\n",
    "import time\n",
    "\n",
    "path_file = r\"C:\\Users\\Kco\\Desktop\\randomNumberSource.wav\" # This is a unique and unrepeatable sound recorded from a real-life coffee shop.\n",
    "sample_rate, data = wavfile.read(path_file)\n",
    "\n",
    "if len(data.shape) == 2:\n",
    "    data = data.mean(axis=1) # Convert stereo to mono\n",
    "\n",
    "fft_values = np.fft.fft(data)\n",
    "frequencies = np.fft.fftfreq(len(data), d=1/sample_rate)\n",
    "amplitudes = np.abs(fft_values)"
   ]
  },
  {
   "cell_type": "code",
   "execution_count": 2,
   "id": "f5e3cca1-d77e-4e83-8a6c-cd5c554bccac",
   "metadata": {},
   "outputs": [],
   "source": [
    "def readRandomNumbers():\n",
    "    # There are 44100 samples in 1 second of sound\n",
    "    sample_size = 44100\n",
    "    i = 0\n",
    "    x = 0\n",
    "    y = sample_size\n",
    "    while i < 5: \n",
    "        data = amplitudes[x:y]  \n",
    "        yield data \n",
    "        x += sample_size\n",
    "        y += sample_size\n",
    "        i += 1\n",
    "        time.sleep(5)"
   ]
  },
  {
   "cell_type": "code",
   "execution_count": 3,
   "id": "c3bcd778-0c4b-4040-bafe-08b01431f43a",
   "metadata": {},
   "outputs": [],
   "source": [
    "random_numbers = readRandomNumbers()"
   ]
  },
  {
   "cell_type": "code",
   "execution_count": 4,
   "id": "b13f675b-7c21-4725-ac72-cf60c69f9cb8",
   "metadata": {},
   "outputs": [
    {
     "name": "stdout",
     "output_type": "stream",
     "text": [
      "[ 7115526.          7433396.12286653  7093957.86633595 ...\n",
      " 91466913.74737507 79631329.73052451 96191771.91582194]\n",
      "[5.67329726e+07 3.17843986e+07 5.97390791e+07 ... 1.90644084e+08\n",
      " 3.72321616e+08 2.50672109e+07]\n",
      "[3.48414130e+07 1.04545428e+08 4.09175079e+08 ... 2.47790556e+08\n",
      " 2.41968054e+08 2.66733105e+08]\n",
      "[3.00159050e+08 2.28438427e+08 2.87177124e+08 ... 1.23171796e+08\n",
      " 1.73130558e+08 1.37319549e+08]\n",
      "[1.23226180e+08 3.25619919e+08 9.09232989e+07 ... 7.52470874e+06\n",
      " 3.27809259e+07 2.39891241e+07]\n"
     ]
    }
   ],
   "source": [
    "for i in random_numbers:\n",
    "    print(i)"
   ]
  },
  {
   "cell_type": "code",
   "execution_count": null,
   "id": "cf9a5ed8-72fb-4bdb-b1b5-6a68ee63a092",
   "metadata": {},
   "outputs": [],
   "source": [
    "positive_freqs = frequencies[:len(frequencies)//2] # Select only the positive half of the frequency spectrum\n",
    "\n",
    "positive_amplitudes = amplitudes[:len(amplitudes)//2] # Corresponding amplitudes for the positive frequencies\n",
    "\n",
    "# Use only frequencies under 2000 Hz for plotting\n",
    "edge = positive_freqs < 2000\n",
    "\n",
    "filtered_freqs = positive_freqs[edge]\n",
    "filtered_amplitudes = positive_amplitudes[edge] \n",
    "\n",
    "plt.figure(figsize=(12, 6))\n",
    "plt.plot(filtered_freqs, filtered_amplitudes)\n",
    "plt.title(\"Frekans Spektrumu\")\n",
    "plt.xlabel(\"Frekans (Hz)\")\n",
    "plt.ylabel(\"Genlik\")\n",
    "plt.grid(True)\n",
    "plt.tight_layout()\n",
    "plt.show()"
   ]
  },
  {
   "cell_type": "code",
   "execution_count": null,
   "id": "628b2590-a4f1-49f4-9628-ec86f38a2aa8",
   "metadata": {},
   "outputs": [],
   "source": []
  }
 ],
 "metadata": {
  "kernelspec": {
   "display_name": "Python [conda env:base] *",
   "language": "python",
   "name": "conda-base-py"
  },
  "language_info": {
   "codemirror_mode": {
    "name": "ipython",
    "version": 3
   },
   "file_extension": ".py",
   "mimetype": "text/x-python",
   "name": "python",
   "nbconvert_exporter": "python",
   "pygments_lexer": "ipython3",
   "version": "3.13.5"
  }
 },
 "nbformat": 4,
 "nbformat_minor": 5
}
